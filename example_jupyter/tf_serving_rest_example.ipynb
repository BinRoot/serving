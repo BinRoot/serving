{
 "cells": [
  {
   "cell_type": "markdown",
   "metadata": {},
   "source": [
    "# TensorFlow Serving in 10 minutes!"
   ]
  },
  {
   "cell_type": "markdown",
   "metadata": {},
   "source": [
    "TensorFlow **SERVING** is Googles' recommended way to deploy TensorFlow models. Without proper computer engineering background, it can be quite intimidating, even for people who feel comfortable with TensorFlow itself. Few things that I've found particularly hard were:\n",
    "- Tutorial examples have C++ code (which I don't know)\n",
    "- Tutorials have Kubernetes, gRPG, Bezel (some of which I saw for the first time)\n",
    "- It needs to be compiled. That process takes forever!\n",
    "\n",
    "After all, it worked just fine. Here I present an easiest possible way to deploy your models with TensorFlow Serving. You will have your self-built model running inside TF-Serving by the end of this tutorial. It will be scalable, and you will be able to query it via REST.\n",
    "\n",
    "The Tutorial uses the Docker image. You can use Kitematic to start the image: **`avloss/tensorflow-serving-rest`**.\n",
    "\n",
    "*At first, I tried building it on \"DockerHub\" - but it hit the limit of 2 hours, so I had to use https://quay.io. I've uploaded finished result to DockerHub manually, but please feel free to pull from https://quay.io/repository/avloss/tensorflow-serving-rest in case you want to make sure it's what's it says it is.*\n",
    "\n",
    "You can start Docker Container from Kitematic, or use this command from console:\n",
    "\n",
    "`docker run --rm -it -p 8888:8888 -p 9000:9000 -p 5000:5000  quay.io/avloss/tensorflow-serving-rest`\n",
    "\n",
    "Once it's running, please navigate to http://localhost:8888/notebooks/tf_serving_rest_example.ipynb. (Use different port if using Kitematic)"
   ]
  },
  {
   "cell_type": "markdown",
   "metadata": {},
   "source": [
    "**From here it's best to continue from within Jupyter Notebook!**\n",
    "\n",
    "To demonstrate how it's working, we are going to use the typical MNIST example from the official TF tutorial page:\n",
    "https://www.tensorflow.org/get_started/mnist/pros\n",
    "\n",
    "We instantiate a standard model."
   ]
  },
  {
   "cell_type": "code",
   "execution_count": 1,
   "metadata": {
    "collapsed": false,
    "deletable": true,
    "editable": true
   },
   "outputs": [],
   "source": [
    "import tensorflow as tf\n",
    "\n",
    "x = tf.placeholder(tf.float32, shape=[None, 784])\n",
    "y_ = tf.placeholder(tf.float32, shape=[None, 10])\n",
    "\n",
    "W = tf.Variable(tf.zeros([784,10]))\n",
    "b = tf.Variable(tf.zeros([10]))\n",
    "\n",
    "\n",
    "y = tf.matmul(x,W) + b\n",
    "\n",
    "cross_entropy = tf.reduce_mean(\n",
    "    tf.nn.softmax_cross_entropy_with_logits(labels=y_, logits=y))\n",
    "\n",
    "train_step = tf.train.GradientDescentOptimizer(0.5).minimize(cross_entropy)"
   ]
  },
  {
   "cell_type": "markdown",
   "metadata": {},
   "source": [
    "Additionally, we declare `pred` value, which is the actual prediction."
   ]
  },
  {
   "cell_type": "code",
   "execution_count": 2,
   "metadata": {
    "collapsed": true
   },
   "outputs": [],
   "source": [
    "pred = tf.argmax(y,axis=1)"
   ]
  },
  {
   "cell_type": "markdown",
   "metadata": {},
   "source": [
    "We download training examples and train the model."
   ]
  },
  {
   "cell_type": "code",
   "execution_count": 3,
   "metadata": {
    "collapsed": false,
    "deletable": true,
    "editable": true
   },
   "outputs": [
    {
     "name": "stdout",
     "output_type": "stream",
     "text": [
      "Extracting MNIST_data/train-images-idx3-ubyte.gz\n",
      "Extracting MNIST_data/train-labels-idx1-ubyte.gz\n",
      "Extracting MNIST_data/t10k-images-idx3-ubyte.gz\n",
      "Extracting MNIST_data/t10k-labels-idx1-ubyte.gz\n"
     ]
    }
   ],
   "source": [
    "from tensorflow.examples.tutorials.mnist import input_data\n",
    "mnist = input_data.read_data_sets('MNIST_data', one_hot=True)\n",
    "\n",
    "sess = tf.InteractiveSession()\n",
    "sess.run(tf.global_variables_initializer())\n",
    "\n",
    "for _ in range(1000):\n",
    "    batch = mnist.train.next_batch(100)\n",
    "    train_step.run(feed_dict={x: batch[0], y_: batch[1]})"
   ]
  },
  {
   "cell_type": "markdown",
   "metadata": {},
   "source": [
    "Let's make sure that everything is working as expected. We have our number."
   ]
  },
  {
   "cell_type": "code",
   "execution_count": 4,
   "metadata": {
    "collapsed": false,
    "deletable": true,
    "editable": true
   },
   "outputs": [
    {
     "data": {
      "text/plain": [
       "<matplotlib.image.AxesImage at 0x7fa28919ae90>"
      ]
     },
     "execution_count": 4,
     "metadata": {},
     "output_type": "execute_result"
    },
    {
     "data": {
      "image/png": "[encoded data removed]",
      "text/plain": [
       "<matplotlib.figure.Figure at 0x7fa2b4d55e10>"
      ]
     },
     "metadata": {},
     "output_type": "display_data"
    }
   ],
   "source": [
    "%matplotlib inline\n",
    "import matplotlib.pyplot as plt\n",
    "\n",
    "number = mnist.train.next_batch(1)[0]\n",
    "\n",
    "plt.imshow(number.reshape(28,28))"
   ]
  },
  {
   "cell_type": "markdown",
   "metadata": {},
   "source": [
    "Make sure that our model can efficiently predict it: \n",
    "\n",
    "*This example works 99% of the time! ;-)*"
   ]
  },
  {
   "cell_type": "code",
   "execution_count": 5,
   "metadata": {
    "collapsed": false,
    "deletable": true,
    "editable": true
   },
   "outputs": [
    {
     "data": {
      "text/plain": [
       "8"
      ]
     },
     "execution_count": 5,
     "metadata": {},
     "output_type": "execute_result"
    }
   ],
   "source": [
    "sess.run(pred,feed_dict={x: number})[0]"
   ]
  },
  {
   "cell_type": "markdown",
   "metadata": {},
   "source": [
    "Now we want to save this model, and serve it with TensorFlow Serving. We define the path where we store the weights and the model version.\n",
    "\n",
    "*Please note that you would need to increment `VERSION` number and re-create your graph (restart this notebook) if you want to save another model.*"
   ]
  },
  {
   "cell_type": "code",
   "execution_count": 6,
   "metadata": {
    "collapsed": true
   },
   "outputs": [],
   "source": [
    "EXPORT_PATH = \"/tmp/models\"\n",
    "VERSION=1"
   ]
  },
  {
   "cell_type": "markdown",
   "metadata": {},
   "source": [
    "And here we are saving the actual weights. "
   ]
  },
  {
   "cell_type": "code",
   "execution_count": 7,
   "metadata": {
    "collapsed": false,
    "deletable": true,
    "editable": true
   },
   "outputs": [
    {
     "name": "stdout",
     "output_type": "stream",
     "text": [
      "INFO:tensorflow:/tmp/models/00000001-tmp/export is not in all_model_checkpoint_paths. Manually adding it.\n"
     ]
    },
    {
     "data": {
      "text/plain": [
       "'/tmp/models/00000001'"
      ]
     },
     "execution_count": 7,
     "metadata": {},
     "output_type": "execute_result"
    }
   ],
   "source": [
    "from tensorflow.contrib.session_bundle import exporter\n",
    "\n",
    "saver = tf.train.Saver(sharded=True)\n",
    "model_exporter = exporter.Exporter(saver)\n",
    "model_exporter.init(\n",
    "    sess.graph.as_graph_def(),\n",
    "    named_graph_signatures={\n",
    "        'inputs': exporter.generic_signature({'x': x}),\n",
    "        'outputs': exporter.generic_signature({'pred': pred})})\n",
    "model_exporter.export(EXPORT_PATH, tf.constant(VERSION), sess)"
   ]
  },
  {
   "cell_type": "markdown",
   "metadata": {},
   "source": [
    "Let's make sure the weights were saved correctly"
   ]
  },
  {
   "cell_type": "code",
   "execution_count": 8,
   "metadata": {
    "collapsed": false
   },
   "outputs": [
    {
     "name": "stdout",
     "output_type": "stream",
     "text": [
      "/tmp/models:\r\n",
      "total 12K\r\n",
      "drwxr-xr-x 2 root root 4.0K Mar 10 10:29 00000001\r\n",
      "-rw-r--r-- 1 root root 7.6K Mar 10 10:29 model.log\r\n",
      "\r\n",
      "/tmp/models/00000001:\r\n",
      "total 72K\r\n",
      "-rw-r--r-- 1 root root 119 Mar 10 10:29 checkpoint\r\n",
      "-rw-r--r-- 1 root root 31K Mar 10 10:29 export.data-00000-of-00001\r\n",
      "-rw-r--r-- 1 root root 159 Mar 10 10:29 export.index\r\n",
      "-rw-r--r-- 1 root root 29K Mar 10 10:29 export.meta\r\n"
     ]
    }
   ],
   "source": [
    "!ls -lhR /tmp/models"
   ]
  },
  {
   "cell_type": "markdown",
   "metadata": {},
   "source": [
    "## Services\n",
    "When this Docker Image started, it run `example_jupyter/setup.sh`. It started following services:\n",
    "\n",
    "\n",
    "- `jupyter notebook`\n",
    "\n",
    "This is jupyter notebook which we are using right now.\n",
    "\n",
    "\n",
    "- `/serving/bazel-bin/tensorflow_serving/model_servers/tensorflow_model_server`\n",
    "\n",
    "This is TF Model Server running. It came as a part of TF-Serving standard distribution. It serves models using gRPC protocol.\n",
    "\n",
    "\n",
    "- `/serving/bazel-bin/tensorflow_serving/example/flask_client`\n",
    "\n",
    "I've added this Flask application to convert REST requests into gPRC requests. Perhaps this takes away from speed, but at least it's clear what is going on - you can find the code here: `tensorflow_serving/example/flask_client.py`."
   ]
  },
  {
   "cell_type": "markdown",
   "metadata": {},
   "source": [
    "Let's check TF Model Server. Until now it waited idly for a model to appear in that folder.\n",
    " We can now check the logs to make sure it recognised and loaded the model we just saved:"
   ]
  },
  {
   "cell_type": "code",
   "execution_count": 9,
   "metadata": {
    "collapsed": false
   },
   "outputs": [
    {
     "name": "stdout",
     "output_type": "stream",
     "text": [
      "2017-03-10 10:29:49.461339: I tensorflow_serving/core/loader_harness.cc:86] Successfully loaded servable version {name: default version: 1}\r\n",
      "2017-03-10 10:29:49.464518: I tensorflow_serving/model_servers/main.cc:257] Running ModelServer at 0.0.0.0:9000 ...\r\n"
     ]
    }
   ],
   "source": [
    "!tail -n2 /tmp/models/model.log"
   ]
  },
  {
   "cell_type": "markdown",
   "metadata": {},
   "source": [
    "## REST request\n",
    "*Following part can run independently from what happened before - so you can run it in a different notebook, or on even on the host machine.*\n",
    "\n",
    "Here's an example of a function we can use to query our model via REST."
   ]
  },
  {
   "cell_type": "code",
   "execution_count": 10,
   "metadata": {
    "collapsed": false,
    "deletable": true,
    "editable": true
   },
   "outputs": [],
   "source": [
    "import numpy as np\n",
    "import cPickle as pickle\n",
    "import requests\n",
    "\n",
    "def test_flask_client(x):\n",
    "    URL = \"http://localhost:5000/model_prediction\"\n",
    "\n",
    "    s = pickle.dumps({\"x\":x}, protocol=0)\n",
    "\n",
    "    DATA = {\"model_name\": \"default\",\n",
    "            \"input\": requests.utils.quote(s)}\n",
    "\n",
    "    r = requests.get(URL, data=DATA)\n",
    "    return r.json()"
   ]
  },
  {
   "cell_type": "markdown",
   "metadata": {},
   "source": [
    "Let's make sure our train data still makes sense:"
   ]
  },
  {
   "cell_type": "code",
   "execution_count": 11,
   "metadata": {
    "collapsed": false
   },
   "outputs": [
    {
     "name": "stdout",
     "output_type": "stream",
     "text": [
      "Extracting MNIST_data/train-images-idx3-ubyte.gz\n",
      "Extracting MNIST_data/train-labels-idx1-ubyte.gz\n",
      "Extracting MNIST_data/t10k-images-idx3-ubyte.gz\n",
      "Extracting MNIST_data/t10k-labels-idx1-ubyte.gz\n"
     ]
    },
    {
     "data": {
      "text/plain": [
       "<matplotlib.image.AxesImage at 0x7fa28d001050>"
      ]
     },
     "execution_count": 11,
     "metadata": {},
     "output_type": "execute_result"
    },
    {
     "data": {
      "image/png": "[encoded data removed]",
      "text/plain": [
       "<matplotlib.figure.Figure at 0x7fa2b4d62390>"
      ]
     },
     "metadata": {},
     "output_type": "display_data"
    }
   ],
   "source": [
    "%matplotlib inline\n",
    "import matplotlib.pyplot as plt\n",
    "from tensorflow.examples.tutorials.mnist import input_data\n",
    "\n",
    "mnist = input_data.read_data_sets('MNIST_data', one_hot=True)\n",
    "number = mnist.train.next_batch(1)[0]\n",
    "\n",
    "plt.imshow(number.reshape(28,28))"
   ]
  },
  {
   "cell_type": "markdown",
   "metadata": {},
   "source": [
    "## Running prediction\n",
    "And finally - let's run a prediction on TensorFlow Serving!"
   ]
  },
  {
   "cell_type": "code",
   "execution_count": 12,
   "metadata": {
    "collapsed": false,
    "deletable": true,
    "editable": true
   },
   "outputs": [
    {
     "data": {
      "text/plain": [
       "{u'outputs': {u'pred': {u'dtype': u'DT_INT64',\n",
       "   u'int64Val': [u'7'],\n",
       "   u'tensorShape': {u'dim': [{u'size': u'1'}]}}}}"
      ]
     },
     "execution_count": 12,
     "metadata": {},
     "output_type": "execute_result"
    }
   ],
   "source": [
    "test_flask_client(number)"
   ]
  },
  {
   "cell_type": "markdown",
   "metadata": {},
   "source": [
    "It's easy to extract the actual prediction value from here"
   ]
  },
  {
   "cell_type": "code",
   "execution_count": 13,
   "metadata": {
    "collapsed": false
   },
   "outputs": [
    {
     "data": {
      "text/plain": [
       "7"
      ]
     },
     "execution_count": 13,
     "metadata": {},
     "output_type": "execute_result"
    }
   ],
   "source": [
    "int(test_flask_client(number)[\"outputs\"][\"pred\"][\"int64Val\"][0])"
   ]
  },
  {
   "cell_type": "markdown",
   "metadata": {},
   "source": [
    "## Done!\n",
    "\n",
    "And that's it! Now you got Docker Container which is running you TensorFlow model with Tensorflow Serving. This model can be queried via `REST` (as we just did), or via `gRPC` (port 9000).\n",
    "\n",
    "It is easy to export this as Docker Image so that it can be run elsewhere. In your host console do the following:\n",
    "\n",
    "`docker ps`\n",
    "\n",
    "It will show the ID of your running container. Use it in the following command (replace *XXXXXX* with *CONTAINER ID*)\n",
    "\n",
    "`docker commit XXXXXX  my_name/my_model:version1`\n",
    "\n",
    "`docker save my_name/my_model:version1 > my_name.my_model.version1.tar`\n",
    "\n",
    "Now your Docker image (with the model inside) is saved into a `tar` file, which you can easily move around. (I'm not suggesting that this is best practice, but it works). Once you got it to the server, do the following to run it:\n",
    "\n",
    "`docker load --input my_name.my_model.version1.tar`\n",
    "\n",
    "`docker run --rm -it -p 8888:8888 -p 9000:9000 -p 5000:5000  my_name/my_model:version1`\n",
    "\n",
    "And now you got your model running on a new server! Hope this works for you!"
   ]
  }
 ],
 "metadata": {
  "anaconda-cloud": {},
  "kernelspec": {
   "display_name": "Python 2",
   "language": "python",
   "name": "python2"
  },
  "language_info": {
   "codemirror_mode": {
    "name": "ipython",
    "version": 2.0
   },
   "file_extension": ".py",
   "mimetype": "text/x-python",
   "name": "python",
   "nbconvert_exporter": "python",
   "pygments_lexer": "ipython2",
   "version": "2.7.12"
  }
 },
 "nbformat": 4,
 "nbformat_minor": 0
}