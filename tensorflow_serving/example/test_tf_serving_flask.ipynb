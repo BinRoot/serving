{
 "cells": [
  {
   "cell_type": "code",
   "execution_count": null,
   "metadata": {
    "collapsed": false
   },
   "outputs": [],
   "source": [
    "import cPickle as pickle\n",
    "import requests\n",
    "import tensorflow as tf\n",
    "import numpy as np\n",
    "from tensorflow.contrib.session_bundle import exporter\n",
    "\n",
    "VERSION = 1\n",
    "\n",
    "def create_and_export_model(export_path):\n",
    "    x = tf.placeholder(tf.int32, shape=[3])\n",
    "    z = tf.Variable([2])\n",
    "    y = tf.mul(x, z)\n",
    "\n",
    "    sess = tf.Session()\n",
    "    init = tf.initialize_all_variables()\n",
    "    sess.run(init)\n",
    "    feed_dict = {x: [3, 4, 5]}\n",
    "    print(sess.run(y, feed_dict=feed_dict))\n",
    "\n",
    "    \n",
    "\n",
    "    print 'Exporting trained model to', export_path\n",
    "    saver = tf.train.Saver(sharded=True)\n",
    "    model_exporter = exporter.Exporter(saver)\n",
    "    model_exporter.init(\n",
    "        sess.graph.as_graph_def(),\n",
    "        named_graph_signatures={\n",
    "            'inputs': exporter.generic_signature({'x': x}),\n",
    "            'outputs': exporter.generic_signature({'y': y})})\n",
    "    model_exporter.export(export_path, tf.constant(VERSION), sess)\n",
    "\n",
    "def test_flask_client():\n",
    "    URL = \"http://localhost:5000/model_prediction\"\n",
    "\n",
    "    a = np.array([1, 2, 3],dtype=\"int32\")\n",
    "    s = pickle.dumps({\"x\":a}, protocol=0)\n",
    "\n",
    "    \n",
    "    DATA = {\"model_name\": \"default\",\n",
    "            \"input\": requests.utils.quote(s)}\n",
    "\n",
    "    r = requests.post(URL, data=DATA)\n",
    "\n",
    "    print r.status_code\n",
    "    print r.text"
   ]
  },
  {
   "cell_type": "code",
   "execution_count": null,
   "metadata": {
    "collapsed": false
   },
   "outputs": [],
   "source": [
    "create_and_export_model(\"/tmp/models\")"
   ]
  },
  {
   "cell_type": "code",
   "execution_count": null,
   "metadata": {
    "collapsed": false
   },
   "outputs": [],
   "source": [
    "test_flask_client()"
   ]
  }
 ],
 "metadata": {
  "kernelspec": {
   "display_name": "Python 2",
   "language": "python",
   "name": "python2"
  },
  "language_info": {
   "codemirror_mode": {
    "name": "ipython",
    "version": 2
   },
   "file_extension": ".py",
   "mimetype": "text/x-python",
   "name": "python",
   "nbconvert_exporter": "python",
   "pygments_lexer": "ipython2",
   "version": "2.7.6"
  }
 },
 "nbformat": 4,
 "nbformat_minor": 0
}
