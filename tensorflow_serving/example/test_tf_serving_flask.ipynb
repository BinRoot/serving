{
 "cells": [
  {
   "cell_type": "code",
   "execution_count": null,
   "metadata": {
    "collapsed": false
   },
   "outputs": [],
   "source": [
    "import requests\n",
    "import tensorflow as tf\n",
    "from tensorflow.contrib.session_bundle import exporter\n",
    "\n",
    "def create_and_export_model(export_path):\n",
    "    x = tf.placeholder(tf.int32, shape=[3])\n",
    "    z = tf.Variable([2])\n",
    "    y = tf.mul(x, z)\n",
    "\n",
    "    sess = tf.Session()\n",
    "    init = tf.initialize_all_variables()\n",
    "    sess.run(init)\n",
    "    feed_dict = {x: [3, 4, 5]}\n",
    "    print(sess.run(y, feed_dict=feed_dict))\n",
    "\n",
    "    version = 1\n",
    "\n",
    "    print 'Exporting trained model to', export_path\n",
    "    saver = tf.train.Saver(sharded=True)\n",
    "    model_exporter = exporter.Exporter(saver)\n",
    "    model_exporter.init(\n",
    "        sess.graph.as_graph_def(),\n",
    "        named_graph_signatures={\n",
    "            'inputs': exporter.generic_signature({'x': x}),\n",
    "            'outputs': exporter.generic_signature({'y': y})})\n",
    "    model_exporter.export(export_path, tf.constant(version), sess)\n",
    "\n",
    "def test_flask_client():\n",
    "    URL = \"http://localhost:5000/model_prediction\"\n",
    "    DATA = {\"model_name\": \"default\",\n",
    "            \"input\": [1, 2, 3, 4],\n",
    "            \"input_name\": \"x\",\n",
    "            \"input_type\": \"int32\"}\n",
    "\n",
    "    r = requests.post(URL, data=DATA)\n",
    "\n",
    "    print r.status_code\n",
    "    print r.text"
   ]
  },
  {
   "cell_type": "code",
   "execution_count": null,
   "metadata": {
    "collapsed": false
   },
   "outputs": [],
   "source": [
    "create_and_export_model(\"/tmp/models\")"
   ]
  },
  {
   "cell_type": "code",
   "execution_count": null,
   "metadata": {
    "collapsed": true
   },
   "outputs": [],
   "source": [
    "test_flask_client()"
   ]
  }
 ],
 "metadata": {
  "kernelspec": {
   "display_name": "Python 2",
   "language": "python",
   "name": "python2"
  },
  "language_info": {
   "codemirror_mode": {
    "name": "ipython",
    "version": 2.0
   },
   "file_extension": ".py",
   "mimetype": "text/x-python",
   "name": "python",
   "nbconvert_exporter": "python",
   "pygments_lexer": "ipython2",
   "version": "2.7.6"
  }
 },
 "nbformat": 4,
 "nbformat_minor": 0
}